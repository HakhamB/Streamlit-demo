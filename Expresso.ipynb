{
 "cells": [
  {
   "cell_type": "code",
   "execution_count": 1,
   "id": "c040dc38-7b84-4a5b-876d-7147b5ea2901",
   "metadata": {},
   "outputs": [],
   "source": [
    "# importing necessary libraries\n",
    "import pandas as pd \n",
    "import numpy as np\n",
    "from ydata_profiling import ProfileReport\n",
    "import matplotlib.pyplot as plt\n",
    "import streamlit as st\n",
    "from sklearn.model_selection import train_test_split\n",
    "from sklearn.preprocessing import StandardScaler, LabelEncoder\n",
    "from sklearn.ensemble import RandomForestClassifier\n",
    "from sklearn.metrics import classification_report\n",
    "import joblib"
   ]
  },
  {
   "cell_type": "code",
   "execution_count": 2,
   "id": "b38ade8f-1cfb-4a4e-ba6a-24888849dbfc",
   "metadata": {},
   "outputs": [],
   "source": [
    "# loading the dataset\n",
    "expresso = pd.read_csv('Expresso_churn_dataset.csv')"
   ]
  },
  {
   "cell_type": "markdown",
   "id": "6ee898e5-163d-4ea6-a175-d2a50cecc482",
   "metadata": {},
   "source": [
    "## EDA"
   ]
  },
  {
   "cell_type": "code",
   "execution_count": 3,
   "id": "9277efab-c8eb-464d-9299-f45f572bd009",
   "metadata": {},
   "outputs": [
    {
     "data": {
      "text/html": [
       "<div>\n",
       "<style scoped>\n",
       "    .dataframe tbody tr th:only-of-type {\n",
       "        vertical-align: middle;\n",
       "    }\n",
       "\n",
       "    .dataframe tbody tr th {\n",
       "        vertical-align: top;\n",
       "    }\n",
       "\n",
       "    .dataframe thead th {\n",
       "        text-align: right;\n",
       "    }\n",
       "</style>\n",
       "<table border=\"1\" class=\"dataframe\">\n",
       "  <thead>\n",
       "    <tr style=\"text-align: right;\">\n",
       "      <th></th>\n",
       "      <th>user_id</th>\n",
       "      <th>REGION</th>\n",
       "      <th>TENURE</th>\n",
       "      <th>MONTANT</th>\n",
       "      <th>FREQUENCE_RECH</th>\n",
       "      <th>REVENUE</th>\n",
       "      <th>ARPU_SEGMENT</th>\n",
       "      <th>FREQUENCE</th>\n",
       "      <th>DATA_VOLUME</th>\n",
       "      <th>ON_NET</th>\n",
       "      <th>ORANGE</th>\n",
       "      <th>TIGO</th>\n",
       "      <th>ZONE1</th>\n",
       "      <th>ZONE2</th>\n",
       "      <th>MRG</th>\n",
       "      <th>REGULARITY</th>\n",
       "      <th>TOP_PACK</th>\n",
       "      <th>FREQ_TOP_PACK</th>\n",
       "      <th>CHURN</th>\n",
       "    </tr>\n",
       "  </thead>\n",
       "  <tbody>\n",
       "    <tr>\n",
       "      <th>0</th>\n",
       "      <td>00000bfd7d50f01092811bc0c8d7b0d6fe7c3596</td>\n",
       "      <td>FATICK</td>\n",
       "      <td>K &gt; 24 month</td>\n",
       "      <td>4250.0</td>\n",
       "      <td>15.0</td>\n",
       "      <td>4251.0</td>\n",
       "      <td>1417.0</td>\n",
       "      <td>17.0</td>\n",
       "      <td>4.0</td>\n",
       "      <td>388.0</td>\n",
       "      <td>46.0</td>\n",
       "      <td>1.0</td>\n",
       "      <td>1.0</td>\n",
       "      <td>2.0</td>\n",
       "      <td>NO</td>\n",
       "      <td>54</td>\n",
       "      <td>On net 200F=Unlimited _call24H</td>\n",
       "      <td>8.0</td>\n",
       "      <td>0</td>\n",
       "    </tr>\n",
       "    <tr>\n",
       "      <th>1</th>\n",
       "      <td>00000cb4a5d760de88fecb38e2f71b7bec52e834</td>\n",
       "      <td>NaN</td>\n",
       "      <td>I 18-21 month</td>\n",
       "      <td>NaN</td>\n",
       "      <td>NaN</td>\n",
       "      <td>NaN</td>\n",
       "      <td>NaN</td>\n",
       "      <td>NaN</td>\n",
       "      <td>NaN</td>\n",
       "      <td>NaN</td>\n",
       "      <td>NaN</td>\n",
       "      <td>NaN</td>\n",
       "      <td>NaN</td>\n",
       "      <td>NaN</td>\n",
       "      <td>NO</td>\n",
       "      <td>4</td>\n",
       "      <td>NaN</td>\n",
       "      <td>NaN</td>\n",
       "      <td>1</td>\n",
       "    </tr>\n",
       "    <tr>\n",
       "      <th>2</th>\n",
       "      <td>00001654a9d9f96303d9969d0a4a851714a4bb57</td>\n",
       "      <td>NaN</td>\n",
       "      <td>K &gt; 24 month</td>\n",
       "      <td>3600.0</td>\n",
       "      <td>2.0</td>\n",
       "      <td>1020.0</td>\n",
       "      <td>340.0</td>\n",
       "      <td>2.0</td>\n",
       "      <td>NaN</td>\n",
       "      <td>90.0</td>\n",
       "      <td>46.0</td>\n",
       "      <td>7.0</td>\n",
       "      <td>NaN</td>\n",
       "      <td>NaN</td>\n",
       "      <td>NO</td>\n",
       "      <td>17</td>\n",
       "      <td>On-net 1000F=10MilF;10d</td>\n",
       "      <td>1.0</td>\n",
       "      <td>0</td>\n",
       "    </tr>\n",
       "    <tr>\n",
       "      <th>3</th>\n",
       "      <td>00001dd6fa45f7ba044bd5d84937be464ce78ac2</td>\n",
       "      <td>DAKAR</td>\n",
       "      <td>K &gt; 24 month</td>\n",
       "      <td>13500.0</td>\n",
       "      <td>15.0</td>\n",
       "      <td>13502.0</td>\n",
       "      <td>4501.0</td>\n",
       "      <td>18.0</td>\n",
       "      <td>43804.0</td>\n",
       "      <td>41.0</td>\n",
       "      <td>102.0</td>\n",
       "      <td>2.0</td>\n",
       "      <td>NaN</td>\n",
       "      <td>NaN</td>\n",
       "      <td>NO</td>\n",
       "      <td>62</td>\n",
       "      <td>Data:1000F=5GB,7d</td>\n",
       "      <td>11.0</td>\n",
       "      <td>0</td>\n",
       "    </tr>\n",
       "    <tr>\n",
       "      <th>4</th>\n",
       "      <td>000028d9e13a595abe061f9b58f3d76ab907850f</td>\n",
       "      <td>DAKAR</td>\n",
       "      <td>K &gt; 24 month</td>\n",
       "      <td>1000.0</td>\n",
       "      <td>1.0</td>\n",
       "      <td>985.0</td>\n",
       "      <td>328.0</td>\n",
       "      <td>1.0</td>\n",
       "      <td>NaN</td>\n",
       "      <td>39.0</td>\n",
       "      <td>24.0</td>\n",
       "      <td>NaN</td>\n",
       "      <td>NaN</td>\n",
       "      <td>NaN</td>\n",
       "      <td>NO</td>\n",
       "      <td>11</td>\n",
       "      <td>Mixt 250F=Unlimited_call24H</td>\n",
       "      <td>2.0</td>\n",
       "      <td>0</td>\n",
       "    </tr>\n",
       "  </tbody>\n",
       "</table>\n",
       "</div>"
      ],
      "text/plain": [
       "                                    user_id  REGION         TENURE  MONTANT  \\\n",
       "0  00000bfd7d50f01092811bc0c8d7b0d6fe7c3596  FATICK   K > 24 month   4250.0   \n",
       "1  00000cb4a5d760de88fecb38e2f71b7bec52e834     NaN  I 18-21 month      NaN   \n",
       "2  00001654a9d9f96303d9969d0a4a851714a4bb57     NaN   K > 24 month   3600.0   \n",
       "3  00001dd6fa45f7ba044bd5d84937be464ce78ac2   DAKAR   K > 24 month  13500.0   \n",
       "4  000028d9e13a595abe061f9b58f3d76ab907850f   DAKAR   K > 24 month   1000.0   \n",
       "\n",
       "   FREQUENCE_RECH  REVENUE  ARPU_SEGMENT  FREQUENCE  DATA_VOLUME  ON_NET  \\\n",
       "0            15.0   4251.0        1417.0       17.0          4.0   388.0   \n",
       "1             NaN      NaN           NaN        NaN          NaN     NaN   \n",
       "2             2.0   1020.0         340.0        2.0          NaN    90.0   \n",
       "3            15.0  13502.0        4501.0       18.0      43804.0    41.0   \n",
       "4             1.0    985.0         328.0        1.0          NaN    39.0   \n",
       "\n",
       "   ORANGE  TIGO  ZONE1  ZONE2 MRG  REGULARITY                        TOP_PACK  \\\n",
       "0    46.0   1.0    1.0    2.0  NO          54  On net 200F=Unlimited _call24H   \n",
       "1     NaN   NaN    NaN    NaN  NO           4                             NaN   \n",
       "2    46.0   7.0    NaN    NaN  NO          17         On-net 1000F=10MilF;10d   \n",
       "3   102.0   2.0    NaN    NaN  NO          62               Data:1000F=5GB,7d   \n",
       "4    24.0   NaN    NaN    NaN  NO          11     Mixt 250F=Unlimited_call24H   \n",
       "\n",
       "   FREQ_TOP_PACK  CHURN  \n",
       "0            8.0      0  \n",
       "1            NaN      1  \n",
       "2            1.0      0  \n",
       "3           11.0      0  \n",
       "4            2.0      0  "
      ]
     },
     "execution_count": 3,
     "metadata": {},
     "output_type": "execute_result"
    }
   ],
   "source": [
    "expresso.head()"
   ]
  },
  {
   "cell_type": "code",
   "execution_count": 4,
   "id": "29c8ec36-8443-4200-ab8d-08f930c233cd",
   "metadata": {},
   "outputs": [
    {
     "name": "stdout",
     "output_type": "stream",
     "text": [
      "<class 'pandas.core.frame.DataFrame'>\n",
      "RangeIndex: 2154048 entries, 0 to 2154047\n",
      "Data columns (total 19 columns):\n",
      " #   Column          Dtype  \n",
      "---  ------          -----  \n",
      " 0   user_id         object \n",
      " 1   REGION          object \n",
      " 2   TENURE          object \n",
      " 3   MONTANT         float64\n",
      " 4   FREQUENCE_RECH  float64\n",
      " 5   REVENUE         float64\n",
      " 6   ARPU_SEGMENT    float64\n",
      " 7   FREQUENCE       float64\n",
      " 8   DATA_VOLUME     float64\n",
      " 9   ON_NET          float64\n",
      " 10  ORANGE          float64\n",
      " 11  TIGO            float64\n",
      " 12  ZONE1           float64\n",
      " 13  ZONE2           float64\n",
      " 14  MRG             object \n",
      " 15  REGULARITY      int64  \n",
      " 16  TOP_PACK        object \n",
      " 17  FREQ_TOP_PACK   float64\n",
      " 18  CHURN           int64  \n",
      "dtypes: float64(12), int64(2), object(5)\n",
      "memory usage: 312.2+ MB\n"
     ]
    }
   ],
   "source": [
    "expresso.info()"
   ]
  },
  {
   "cell_type": "code",
   "execution_count": 5,
   "id": "9f45f54e-889a-4ea1-88c4-4c11bb6f3c78",
   "metadata": {},
   "outputs": [
    {
     "data": {
      "text/plain": [
       "(2154048, 19)"
      ]
     },
     "execution_count": 5,
     "metadata": {},
     "output_type": "execute_result"
    }
   ],
   "source": [
    "expresso.shape"
   ]
  },
  {
   "cell_type": "code",
   "execution_count": 6,
   "id": "63c44df4-f128-4978-86cb-a3cd1ce22028",
   "metadata": {},
   "outputs": [
    {
     "data": {
      "text/plain": [
       "user_id                 0\n",
       "REGION             849299\n",
       "TENURE                  0\n",
       "MONTANT            756739\n",
       "FREQUENCE_RECH     756739\n",
       "REVENUE            726048\n",
       "ARPU_SEGMENT       726048\n",
       "FREQUENCE          726048\n",
       "DATA_VOLUME       1060433\n",
       "ON_NET             786675\n",
       "ORANGE             895248\n",
       "TIGO              1290016\n",
       "ZONE1             1984327\n",
       "ZONE2             2017224\n",
       "MRG                     0\n",
       "REGULARITY              0\n",
       "TOP_PACK           902594\n",
       "FREQ_TOP_PACK      902594\n",
       "CHURN                   0\n",
       "dtype: int64"
      ]
     },
     "execution_count": 6,
     "metadata": {},
     "output_type": "execute_result"
    }
   ],
   "source": [
    "expresso.isnull().sum()"
   ]
  },
  {
   "cell_type": "code",
   "execution_count": 7,
   "id": "5b6725ac-9ff6-46b0-afaf-8cfb5dd31498",
   "metadata": {},
   "outputs": [
    {
     "data": {
      "text/html": [
       "<div>\n",
       "<style scoped>\n",
       "    .dataframe tbody tr th:only-of-type {\n",
       "        vertical-align: middle;\n",
       "    }\n",
       "\n",
       "    .dataframe tbody tr th {\n",
       "        vertical-align: top;\n",
       "    }\n",
       "\n",
       "    .dataframe thead th {\n",
       "        text-align: right;\n",
       "    }\n",
       "</style>\n",
       "<table border=\"1\" class=\"dataframe\">\n",
       "  <thead>\n",
       "    <tr style=\"text-align: right;\">\n",
       "      <th></th>\n",
       "      <th>MONTANT</th>\n",
       "      <th>FREQUENCE_RECH</th>\n",
       "      <th>REVENUE</th>\n",
       "      <th>ARPU_SEGMENT</th>\n",
       "      <th>FREQUENCE</th>\n",
       "      <th>DATA_VOLUME</th>\n",
       "      <th>ON_NET</th>\n",
       "      <th>ORANGE</th>\n",
       "      <th>TIGO</th>\n",
       "      <th>ZONE1</th>\n",
       "      <th>ZONE2</th>\n",
       "      <th>REGULARITY</th>\n",
       "      <th>FREQ_TOP_PACK</th>\n",
       "      <th>CHURN</th>\n",
       "    </tr>\n",
       "  </thead>\n",
       "  <tbody>\n",
       "    <tr>\n",
       "      <th>count</th>\n",
       "      <td>1.397309e+06</td>\n",
       "      <td>1.397309e+06</td>\n",
       "      <td>1.428000e+06</td>\n",
       "      <td>1.428000e+06</td>\n",
       "      <td>1.428000e+06</td>\n",
       "      <td>1.093615e+06</td>\n",
       "      <td>1.367373e+06</td>\n",
       "      <td>1.258800e+06</td>\n",
       "      <td>864032.000000</td>\n",
       "      <td>169721.000000</td>\n",
       "      <td>136824.000000</td>\n",
       "      <td>2.154048e+06</td>\n",
       "      <td>1.251454e+06</td>\n",
       "      <td>2.154048e+06</td>\n",
       "    </tr>\n",
       "    <tr>\n",
       "      <th>mean</th>\n",
       "      <td>5.532117e+03</td>\n",
       "      <td>1.152912e+01</td>\n",
       "      <td>5.510810e+03</td>\n",
       "      <td>1.836943e+03</td>\n",
       "      <td>1.397814e+01</td>\n",
       "      <td>3.366450e+03</td>\n",
       "      <td>2.776891e+02</td>\n",
       "      <td>9.541871e+01</td>\n",
       "      <td>23.109253</td>\n",
       "      <td>8.170132</td>\n",
       "      <td>7.553309</td>\n",
       "      <td>2.804251e+01</td>\n",
       "      <td>9.272461e+00</td>\n",
       "      <td>1.875474e-01</td>\n",
       "    </tr>\n",
       "    <tr>\n",
       "      <th>std</th>\n",
       "      <td>7.111339e+03</td>\n",
       "      <td>1.327407e+01</td>\n",
       "      <td>7.187113e+03</td>\n",
       "      <td>2.395700e+03</td>\n",
       "      <td>1.469403e+01</td>\n",
       "      <td>1.330446e+04</td>\n",
       "      <td>8.726889e+02</td>\n",
       "      <td>2.049873e+02</td>\n",
       "      <td>63.578086</td>\n",
       "      <td>41.169511</td>\n",
       "      <td>33.487234</td>\n",
       "      <td>2.228686e+01</td>\n",
       "      <td>1.228044e+01</td>\n",
       "      <td>3.903504e-01</td>\n",
       "    </tr>\n",
       "    <tr>\n",
       "      <th>min</th>\n",
       "      <td>1.000000e+01</td>\n",
       "      <td>1.000000e+00</td>\n",
       "      <td>1.000000e+00</td>\n",
       "      <td>0.000000e+00</td>\n",
       "      <td>1.000000e+00</td>\n",
       "      <td>0.000000e+00</td>\n",
       "      <td>0.000000e+00</td>\n",
       "      <td>0.000000e+00</td>\n",
       "      <td>0.000000</td>\n",
       "      <td>0.000000</td>\n",
       "      <td>0.000000</td>\n",
       "      <td>1.000000e+00</td>\n",
       "      <td>1.000000e+00</td>\n",
       "      <td>0.000000e+00</td>\n",
       "    </tr>\n",
       "    <tr>\n",
       "      <th>25%</th>\n",
       "      <td>1.000000e+03</td>\n",
       "      <td>2.000000e+00</td>\n",
       "      <td>1.000000e+03</td>\n",
       "      <td>3.330000e+02</td>\n",
       "      <td>3.000000e+00</td>\n",
       "      <td>0.000000e+00</td>\n",
       "      <td>5.000000e+00</td>\n",
       "      <td>7.000000e+00</td>\n",
       "      <td>2.000000</td>\n",
       "      <td>0.000000</td>\n",
       "      <td>0.000000</td>\n",
       "      <td>6.000000e+00</td>\n",
       "      <td>2.000000e+00</td>\n",
       "      <td>0.000000e+00</td>\n",
       "    </tr>\n",
       "    <tr>\n",
       "      <th>50%</th>\n",
       "      <td>3.000000e+03</td>\n",
       "      <td>7.000000e+00</td>\n",
       "      <td>3.000000e+03</td>\n",
       "      <td>1.000000e+03</td>\n",
       "      <td>9.000000e+00</td>\n",
       "      <td>2.570000e+02</td>\n",
       "      <td>2.700000e+01</td>\n",
       "      <td>2.900000e+01</td>\n",
       "      <td>6.000000</td>\n",
       "      <td>1.000000</td>\n",
       "      <td>2.000000</td>\n",
       "      <td>2.400000e+01</td>\n",
       "      <td>5.000000e+00</td>\n",
       "      <td>0.000000e+00</td>\n",
       "    </tr>\n",
       "    <tr>\n",
       "      <th>75%</th>\n",
       "      <td>7.350000e+03</td>\n",
       "      <td>1.600000e+01</td>\n",
       "      <td>7.368000e+03</td>\n",
       "      <td>2.456000e+03</td>\n",
       "      <td>2.000000e+01</td>\n",
       "      <td>2.895000e+03</td>\n",
       "      <td>1.560000e+02</td>\n",
       "      <td>9.900000e+01</td>\n",
       "      <td>20.000000</td>\n",
       "      <td>3.000000</td>\n",
       "      <td>5.000000</td>\n",
       "      <td>5.100000e+01</td>\n",
       "      <td>1.200000e+01</td>\n",
       "      <td>0.000000e+00</td>\n",
       "    </tr>\n",
       "    <tr>\n",
       "      <th>max</th>\n",
       "      <td>4.700000e+05</td>\n",
       "      <td>1.330000e+02</td>\n",
       "      <td>5.321770e+05</td>\n",
       "      <td>1.773920e+05</td>\n",
       "      <td>9.100000e+01</td>\n",
       "      <td>1.823866e+06</td>\n",
       "      <td>5.080900e+04</td>\n",
       "      <td>2.132300e+04</td>\n",
       "      <td>4174.000000</td>\n",
       "      <td>4792.000000</td>\n",
       "      <td>3697.000000</td>\n",
       "      <td>6.200000e+01</td>\n",
       "      <td>7.130000e+02</td>\n",
       "      <td>1.000000e+00</td>\n",
       "    </tr>\n",
       "  </tbody>\n",
       "</table>\n",
       "</div>"
      ],
      "text/plain": [
       "            MONTANT  FREQUENCE_RECH       REVENUE  ARPU_SEGMENT     FREQUENCE  \\\n",
       "count  1.397309e+06    1.397309e+06  1.428000e+06  1.428000e+06  1.428000e+06   \n",
       "mean   5.532117e+03    1.152912e+01  5.510810e+03  1.836943e+03  1.397814e+01   \n",
       "std    7.111339e+03    1.327407e+01  7.187113e+03  2.395700e+03  1.469403e+01   \n",
       "min    1.000000e+01    1.000000e+00  1.000000e+00  0.000000e+00  1.000000e+00   \n",
       "25%    1.000000e+03    2.000000e+00  1.000000e+03  3.330000e+02  3.000000e+00   \n",
       "50%    3.000000e+03    7.000000e+00  3.000000e+03  1.000000e+03  9.000000e+00   \n",
       "75%    7.350000e+03    1.600000e+01  7.368000e+03  2.456000e+03  2.000000e+01   \n",
       "max    4.700000e+05    1.330000e+02  5.321770e+05  1.773920e+05  9.100000e+01   \n",
       "\n",
       "        DATA_VOLUME        ON_NET        ORANGE           TIGO          ZONE1  \\\n",
       "count  1.093615e+06  1.367373e+06  1.258800e+06  864032.000000  169721.000000   \n",
       "mean   3.366450e+03  2.776891e+02  9.541871e+01      23.109253       8.170132   \n",
       "std    1.330446e+04  8.726889e+02  2.049873e+02      63.578086      41.169511   \n",
       "min    0.000000e+00  0.000000e+00  0.000000e+00       0.000000       0.000000   \n",
       "25%    0.000000e+00  5.000000e+00  7.000000e+00       2.000000       0.000000   \n",
       "50%    2.570000e+02  2.700000e+01  2.900000e+01       6.000000       1.000000   \n",
       "75%    2.895000e+03  1.560000e+02  9.900000e+01      20.000000       3.000000   \n",
       "max    1.823866e+06  5.080900e+04  2.132300e+04    4174.000000    4792.000000   \n",
       "\n",
       "               ZONE2    REGULARITY  FREQ_TOP_PACK         CHURN  \n",
       "count  136824.000000  2.154048e+06   1.251454e+06  2.154048e+06  \n",
       "mean        7.553309  2.804251e+01   9.272461e+00  1.875474e-01  \n",
       "std        33.487234  2.228686e+01   1.228044e+01  3.903504e-01  \n",
       "min         0.000000  1.000000e+00   1.000000e+00  0.000000e+00  \n",
       "25%         0.000000  6.000000e+00   2.000000e+00  0.000000e+00  \n",
       "50%         2.000000  2.400000e+01   5.000000e+00  0.000000e+00  \n",
       "75%         5.000000  5.100000e+01   1.200000e+01  0.000000e+00  \n",
       "max      3697.000000  6.200000e+01   7.130000e+02  1.000000e+00  "
      ]
     },
     "execution_count": 7,
     "metadata": {},
     "output_type": "execute_result"
    }
   ],
   "source": [
    "expresso.describe()"
   ]
  },
  {
   "cell_type": "code",
   "execution_count": 8,
   "id": "eca46aa8-5f58-488f-92bb-3e74dbe35984",
   "metadata": {},
   "outputs": [
    {
     "data": {
      "application/vnd.jupyter.widget-view+json": {
       "model_id": "2c09369958f74982b33a62bc0281b791",
       "version_major": 2,
       "version_minor": 0
      },
      "text/plain": [
       "Summarize dataset:   0%|          | 0/5 [00:00<?, ?it/s]"
      ]
     },
     "metadata": {},
     "output_type": "display_data"
    },
    {
     "data": {
      "application/vnd.jupyter.widget-view+json": {
       "model_id": "e0eb86b3008541dc88fcbba3d8fc9ba1",
       "version_major": 2,
       "version_minor": 0
      },
      "text/plain": [
       "Generate report structure:   0%|          | 0/1 [00:00<?, ?it/s]"
      ]
     },
     "metadata": {},
     "output_type": "display_data"
    },
    {
     "data": {
      "application/vnd.jupyter.widget-view+json": {
       "model_id": "b0b3c93b060c47e98395bac4ffed3e9b",
       "version_major": 2,
       "version_minor": 0
      },
      "text/plain": [
       "Render HTML:   0%|          | 0/1 [00:00<?, ?it/s]"
      ]
     },
     "metadata": {},
     "output_type": "display_data"
    },
    {
     "data": {
      "application/vnd.jupyter.widget-view+json": {
       "model_id": "31c5808eadb146f2b529f6df8d085bf5",
       "version_major": 2,
       "version_minor": 0
      },
      "text/plain": [
       "Export report to file:   0%|          | 0/1 [00:00<?, ?it/s]"
      ]
     },
     "metadata": {},
     "output_type": "display_data"
    }
   ],
   "source": [
    "#generating pandas profiling report\n",
    "profile = ProfileReport(expresso, title = 'Expresso churn REPORT')\n",
    "profile.to_file('Expresso churn.html')"
   ]
  },
  {
   "cell_type": "code",
   "execution_count": 9,
   "id": "cce943f5-7873-434e-910c-383918fe690c",
   "metadata": {},
   "outputs": [],
   "source": [
    "#making a copy of the dataset\n",
    "df = expresso.copy()"
   ]
  },
  {
   "cell_type": "code",
   "execution_count": 10,
   "id": "a201e8e1-f721-41c9-8bba-3580206b66a6",
   "metadata": {},
   "outputs": [],
   "source": [
    "# handling missing values\n",
    "numeric_columns = df.select_dtypes(include=['float64', 'int64']).columns\n",
    "categorical_columns = df.select_dtypes(include=['object']).columns"
   ]
  },
  {
   "cell_type": "code",
   "execution_count": 11,
   "id": "ce2a7e60-89f4-40e4-aa58-8fe14aedc708",
   "metadata": {},
   "outputs": [],
   "source": [
    "# For numeric columns, fill with median\n",
    "for col in numeric_columns:\n",
    "    df[numeric_columns] = df[numeric_columns].apply(lambda col:col.fillna(col.median()))"
   ]
  },
  {
   "cell_type": "code",
   "execution_count": 12,
   "id": "15aa6831-13ee-4012-873e-2ff371e59c29",
   "metadata": {},
   "outputs": [],
   "source": [
    "# For categorical columns, fill with mode\n",
    "for col in categorical_columns:\n",
    "    df[categorical_columns] = df[categorical_columns].apply(lambda col: col.fillna(col.mode()[0]))"
   ]
  },
  {
   "cell_type": "code",
   "execution_count": 13,
   "id": "e1f24e1f-36c8-47df-a551-e51ff5e050c4",
   "metadata": {},
   "outputs": [
    {
     "data": {
      "text/plain": [
       "user_id           0\n",
       "REGION            0\n",
       "TENURE            0\n",
       "MONTANT           0\n",
       "FREQUENCE_RECH    0\n",
       "REVENUE           0\n",
       "ARPU_SEGMENT      0\n",
       "FREQUENCE         0\n",
       "DATA_VOLUME       0\n",
       "ON_NET            0\n",
       "ORANGE            0\n",
       "TIGO              0\n",
       "ZONE1             0\n",
       "ZONE2             0\n",
       "MRG               0\n",
       "REGULARITY        0\n",
       "TOP_PACK          0\n",
       "FREQ_TOP_PACK     0\n",
       "CHURN             0\n",
       "dtype: int64"
      ]
     },
     "execution_count": 13,
     "metadata": {},
     "output_type": "execute_result"
    }
   ],
   "source": [
    "df.isnull().sum()"
   ]
  },
  {
   "cell_type": "code",
   "execution_count": 14,
   "id": "34d86421-ae29-4b50-b7d2-430e89b0d87f",
   "metadata": {},
   "outputs": [],
   "source": [
    "# dropping duplicates\n",
    "df.drop_duplicates(inplace = True)"
   ]
  },
  {
   "cell_type": "code",
   "execution_count": 15,
   "id": "92313879-5cbe-4c77-863e-13dd4986af03",
   "metadata": {},
   "outputs": [],
   "source": [
    "# Handle outliers using IQR method\n",
    "def remove_outliers(df, column):\n",
    "    Q1 = df[column].quantile(0.25)\n",
    "    Q3 = df[column].quantile(0.75)\n",
    "    IQR = Q3 - Q1\n",
    "    lower_bound = Q1 - 1.5 * IQR\n",
    "    upper_bound = Q3 + 1.5 * IQR\n",
    "    df = df[(df[column] >= lower_bound) & (df[column] <= upper_bound)]\n",
    "    return df"
   ]
  },
  {
   "cell_type": "code",
   "execution_count": 16,
   "id": "9e9592c7-ad74-440d-804a-91cf038c86c1",
   "metadata": {},
   "outputs": [],
   "source": [
    "for col in numeric_columns:\n",
    "    df = remove_outliers(df, col)"
   ]
  },
  {
   "cell_type": "code",
   "execution_count": 17,
   "id": "ece729c1-294a-43c9-8733-967c085c9ef5",
   "metadata": {},
   "outputs": [],
   "source": [
    "#encoding categorical features\n",
    "label_encoders = {}\n",
    "for col in categorical_columns:\n",
    "    label_encoders[col] = LabelEncoder()\n",
    "    df[col] = label_encoders[col].fit_transform(df[col])"
   ]
  },
  {
   "cell_type": "code",
   "execution_count": 18,
   "id": "ff8304d7-9e53-4ab2-a04f-16d38e87555d",
   "metadata": {},
   "outputs": [
    {
     "data": {
      "text/plain": [
       "['label_encoders.joblib']"
      ]
     },
     "execution_count": 18,
     "metadata": {},
     "output_type": "execute_result"
    }
   ],
   "source": [
    "# Save label encoders\n",
    "joblib.dump(label_encoders, 'label_encoders.joblib')"
   ]
  },
  {
   "cell_type": "code",
   "execution_count": 19,
   "id": "42bdb6b7-99d8-4910-80a4-c6b78af5f16a",
   "metadata": {},
   "outputs": [],
   "source": [
    "# saving the claeaned dataframe to a new csv file\n",
    "df.to_csv('cleaned_expresso_churn_data.csv', index = False)"
   ]
  },
  {
   "cell_type": "markdown",
   "id": "6148ec50-53a6-4016-9141-bd368d5876b9",
   "metadata": {},
   "source": [
    "### Train model"
   ]
  },
  {
   "cell_type": "code",
   "execution_count": 20,
   "id": "f5c7ef80-bc64-45fe-9a8c-81904b9c05e3",
   "metadata": {},
   "outputs": [
    {
     "name": "stdout",
     "output_type": "stream",
     "text": [
      "\n",
      "Model Performance:\n",
      "              precision    recall  f1-score   support\n",
      "\n",
      "           0       0.55      0.55      0.55     45094\n",
      "           1       0.64      0.64      0.64     56849\n",
      "\n",
      "    accuracy                           0.60    101943\n",
      "   macro avg       0.60      0.60      0.60    101943\n",
      "weighted avg       0.60      0.60      0.60    101943\n",
      "\n"
     ]
    }
   ],
   "source": [
    "def train_model(df):\n",
    "    x = df.drop('CHURN', axis = 1)\n",
    "    y = df['CHURN']\n",
    "\n",
    "    # splitting the data\n",
    "    x_train, x_test, y_train, y_test = train_test_split(x, y, test_size = 0.2, random_state = 42)\n",
    "    # Scale features\n",
    "    scaler = StandardScaler()\n",
    "    X_train_scaled = scaler.fit_transform(x_train)\n",
    "    X_test_scaled = scaler.transform(x_test)\n",
    "    \n",
    "    # Train model\n",
    "    model = RandomForestClassifier(random_state=42)\n",
    "    model.fit(X_train_scaled, y_train)\n",
    "    \n",
    "    # Evaluate model\n",
    "    print(\"\\nModel Performance:\")\n",
    "    print(classification_report(y_test, model.predict(X_test_scaled)))\n",
    "    \n",
    "    # Save model and scaler\n",
    "    joblib.dump(model, 'model.joblib')\n",
    "    joblib.dump(scaler, 'scaler.joblib')\n",
    "    \n",
    "    # Save feature names\n",
    "    feature_names = x.columns.tolist()\n",
    "    joblib.dump(feature_names, 'feature_names.joblib')\n",
    "    \n",
    "    return model, scaler, feature_names\n",
    "\n",
    "if __name__ == \"__main__\":\n",
    "    model, scaler, feature_names = train_model(df)"
   ]
  },
  {
   "cell_type": "code",
   "execution_count": 21,
   "id": "1d2b304d-0b80-445b-9118-17d734019f7b",
   "metadata": {},
   "outputs": [],
   "source": [
    "# splitting the data\n",
    "#x_train, x_test, y_train, y_test = train_test_split(x, y, test_size = 0.2, random_state = 42)"
   ]
  },
  {
   "cell_type": "code",
   "execution_count": 22,
   "id": "6afab03e-be77-46f7-a39a-39c365d762c5",
   "metadata": {},
   "outputs": [],
   "source": [
    "# Scale features\n",
    "#scaler = StandardScaler()\n",
    "#X_train_scaled = scaler.fit_transform(x_train)\n",
    "#X_test_scaled = scaler.transform(x_test)"
   ]
  },
  {
   "cell_type": "code",
   "execution_count": 23,
   "id": "3556e5f0-9a57-4fd3-9b97-58bfb6f2c9a7",
   "metadata": {},
   "outputs": [],
   "source": [
    "# Train model\n",
    "#model = RandomForestClassifier(random_state=42)\n",
    "#model.fit(X_train_scaled, y_train)"
   ]
  },
  {
   "cell_type": "code",
   "execution_count": 24,
   "id": "3155e88b-664c-4bd2-85bd-9170d001a5c6",
   "metadata": {},
   "outputs": [],
   "source": [
    "# model evaluation\n",
    "#print(\"\\n Model Performance:\")\n",
    "#print(classification_report(y_test, model.predict(X_test_scaled)))"
   ]
  },
  {
   "cell_type": "code",
   "execution_count": 25,
   "id": "8ec5cd5a-6641-4beb-9dcf-ba9d6225c27d",
   "metadata": {},
   "outputs": [],
   "source": [
    "# saving model and scaler\n",
    "#joblib.dump(model, 'model.joblib')\n",
    "#joblib.dump(scaler, 'scaler.joblib')"
   ]
  },
  {
   "cell_type": "code",
   "execution_count": 26,
   "id": "b2016b55-db9c-4d35-8ad3-a937c3d782d7",
   "metadata": {},
   "outputs": [],
   "source": [
    "#saving features names\n",
    "#feature_names = x.columns.tolist()\n",
    "#feature_names\n",
    "#joblib.dump(feature_names, 'feature_names.joblib')"
   ]
  }
 ],
 "metadata": {
  "kernelspec": {
   "display_name": "Python 3 (ipykernel)",
   "language": "python",
   "name": "python3"
  },
  "language_info": {
   "codemirror_mode": {
    "name": "ipython",
    "version": 3
   },
   "file_extension": ".py",
   "mimetype": "text/x-python",
   "name": "python",
   "nbconvert_exporter": "python",
   "pygments_lexer": "ipython3",
   "version": "3.12.7"
  },
  "widgets": {
   "application/vnd.jupyter.widget-state+json": {
    "state": {
     "06c985939e5345a999f638a1d5577cdd": {
      "model_module": "@jupyter-widgets/controls",
      "model_module_version": "2.0.0",
      "model_name": "HTMLModel",
      "state": {
       "layout": "IPY_MODEL_0cfc25a1493745df8f6c5b74a9fb8d21",
       "style": "IPY_MODEL_9b12e3cddeb249d79e865ac03e7c4a39",
       "value": "Summarize dataset: 100%"
      }
     },
     "08023ee54e7f4de38f44d2d51b4ac26d": {
      "model_module": "@jupyter-widgets/base",
      "model_module_version": "2.0.0",
      "model_name": "LayoutModel",
      "state": {}
     },
     "0cfc25a1493745df8f6c5b74a9fb8d21": {
      "model_module": "@jupyter-widgets/base",
      "model_module_version": "2.0.0",
      "model_name": "LayoutModel",
      "state": {}
     },
     "113a83b1ca9c407fbcd61e874de97839": {
      "model_module": "@jupyter-widgets/base",
      "model_module_version": "2.0.0",
      "model_name": "LayoutModel",
      "state": {}
     },
     "180bfe3fdf914e19a9be11c65a602974": {
      "model_module": "@jupyter-widgets/controls",
      "model_module_version": "2.0.0",
      "model_name": "HTMLStyleModel",
      "state": {
       "description_width": "",
       "font_size": null,
       "text_color": null
      }
     },
     "29bb9c19cb074e628f4291fb6160b27e": {
      "model_module": "@jupyter-widgets/base",
      "model_module_version": "2.0.0",
      "model_name": "LayoutModel",
      "state": {}
     },
     "2c09369958f74982b33a62bc0281b791": {
      "model_module": "@jupyter-widgets/controls",
      "model_module_version": "2.0.0",
      "model_name": "HBoxModel",
      "state": {
       "children": [
        "IPY_MODEL_06c985939e5345a999f638a1d5577cdd",
        "IPY_MODEL_51ab3c7492b443dba7a9d7afb9e0e386",
        "IPY_MODEL_72bea2f4c5f84e0785bc798e393906d1"
       ],
       "layout": "IPY_MODEL_7d2a418df37c42538921ffb8f7bc73e1"
      }
     },
     "31c5808eadb146f2b529f6df8d085bf5": {
      "model_module": "@jupyter-widgets/controls",
      "model_module_version": "2.0.0",
      "model_name": "HBoxModel",
      "state": {
       "children": [
        "IPY_MODEL_c1334ac5b24a47359e5e7545b097ccf9",
        "IPY_MODEL_6684886a13e34952b47d26f45e454305",
        "IPY_MODEL_7d7fe7e25fa9409a8ebce5faf46651ed"
       ],
       "layout": "IPY_MODEL_113a83b1ca9c407fbcd61e874de97839"
      }
     },
     "322820a1593742beb93f45099b6af569": {
      "model_module": "@jupyter-widgets/base",
      "model_module_version": "2.0.0",
      "model_name": "LayoutModel",
      "state": {}
     },
     "33bb2f8f2857439c9d741ed216fc52a5": {
      "model_module": "@jupyter-widgets/controls",
      "model_module_version": "2.0.0",
      "model_name": "HTMLStyleModel",
      "state": {
       "description_width": "",
       "font_size": null,
       "text_color": null
      }
     },
     "4939791ea3c84111aa161eb0d881e048": {
      "model_module": "@jupyter-widgets/controls",
      "model_module_version": "2.0.0",
      "model_name": "HTMLModel",
      "state": {
       "layout": "IPY_MODEL_8a09af5344b04c829783794063773dd2",
       "style": "IPY_MODEL_67c78ad115d84d899bf0568da6143a40",
       "value": "Generate report structure: 100%"
      }
     },
     "4d1655a64abc489c9bc3f2475c18dc95": {
      "model_module": "@jupyter-widgets/controls",
      "model_module_version": "2.0.0",
      "model_name": "HTMLStyleModel",
      "state": {
       "description_width": "",
       "font_size": null,
       "text_color": null
      }
     },
     "51ab3c7492b443dba7a9d7afb9e0e386": {
      "model_module": "@jupyter-widgets/controls",
      "model_module_version": "2.0.0",
      "model_name": "FloatProgressModel",
      "state": {
       "bar_style": "success",
       "layout": "IPY_MODEL_29bb9c19cb074e628f4291fb6160b27e",
       "max": 5,
       "style": "IPY_MODEL_fafcda1153834d4892d979608e7c7ad9",
       "value": 5
      }
     },
     "549bffed77c2448f82a3ad54f6650359": {
      "model_module": "@jupyter-widgets/base",
      "model_module_version": "2.0.0",
      "model_name": "LayoutModel",
      "state": {}
     },
     "5838af5b01764424bb26364a287781f3": {
      "model_module": "@jupyter-widgets/controls",
      "model_module_version": "2.0.0",
      "model_name": "ProgressStyleModel",
      "state": {
       "description_width": ""
      }
     },
     "6684886a13e34952b47d26f45e454305": {
      "model_module": "@jupyter-widgets/controls",
      "model_module_version": "2.0.0",
      "model_name": "FloatProgressModel",
      "state": {
       "bar_style": "success",
       "layout": "IPY_MODEL_8484cd23222c4a76b282fcbf47507ffa",
       "max": 1,
       "style": "IPY_MODEL_df040d4ff8c24e25abe36863cc2dd106",
       "value": 1
      }
     },
     "67c78ad115d84d899bf0568da6143a40": {
      "model_module": "@jupyter-widgets/controls",
      "model_module_version": "2.0.0",
      "model_name": "HTMLStyleModel",
      "state": {
       "description_width": "",
       "font_size": null,
       "text_color": null
      }
     },
     "72bea2f4c5f84e0785bc798e393906d1": {
      "model_module": "@jupyter-widgets/controls",
      "model_module_version": "2.0.0",
      "model_name": "HTMLModel",
      "state": {
       "layout": "IPY_MODEL_322820a1593742beb93f45099b6af569",
       "style": "IPY_MODEL_33bb2f8f2857439c9d741ed216fc52a5",
       "value": " 198/198 [04:39&lt;00:00,  4.19s/it, Completed]"
      }
     },
     "76057cba4f034b9a932b241d81322978": {
      "model_module": "@jupyter-widgets/controls",
      "model_module_version": "2.0.0",
      "model_name": "HTMLStyleModel",
      "state": {
       "description_width": "",
       "font_size": null,
       "text_color": null
      }
     },
     "7bce819ca14845a88b1f80ecce863a57": {
      "model_module": "@jupyter-widgets/base",
      "model_module_version": "2.0.0",
      "model_name": "LayoutModel",
      "state": {}
     },
     "7d2a418df37c42538921ffb8f7bc73e1": {
      "model_module": "@jupyter-widgets/base",
      "model_module_version": "2.0.0",
      "model_name": "LayoutModel",
      "state": {}
     },
     "7d7fe7e25fa9409a8ebce5faf46651ed": {
      "model_module": "@jupyter-widgets/controls",
      "model_module_version": "2.0.0",
      "model_name": "HTMLModel",
      "state": {
       "layout": "IPY_MODEL_ec58e77070c94ee38ccfce28cb75d200",
       "style": "IPY_MODEL_ec18c4318d9348569ce089c08e6061c5",
       "value": " 1/1 [00:00&lt;00:00,  4.25it/s]"
      }
     },
     "8484cd23222c4a76b282fcbf47507ffa": {
      "model_module": "@jupyter-widgets/base",
      "model_module_version": "2.0.0",
      "model_name": "LayoutModel",
      "state": {}
     },
     "8a09af5344b04c829783794063773dd2": {
      "model_module": "@jupyter-widgets/base",
      "model_module_version": "2.0.0",
      "model_name": "LayoutModel",
      "state": {}
     },
     "8a3f98ca56334e188b467ea2b5585182": {
      "model_module": "@jupyter-widgets/controls",
      "model_module_version": "2.0.0",
      "model_name": "HTMLModel",
      "state": {
       "layout": "IPY_MODEL_8e5b3500aaa2494aa948ea46b8265f85",
       "style": "IPY_MODEL_76057cba4f034b9a932b241d81322978",
       "value": "Render HTML: 100%"
      }
     },
     "8e5b3500aaa2494aa948ea46b8265f85": {
      "model_module": "@jupyter-widgets/base",
      "model_module_version": "2.0.0",
      "model_name": "LayoutModel",
      "state": {}
     },
     "9b12e3cddeb249d79e865ac03e7c4a39": {
      "model_module": "@jupyter-widgets/controls",
      "model_module_version": "2.0.0",
      "model_name": "HTMLStyleModel",
      "state": {
       "description_width": "",
       "font_size": null,
       "text_color": null
      }
     },
     "9d42f3863b9c4f3da5b755a46d0fe380": {
      "model_module": "@jupyter-widgets/controls",
      "model_module_version": "2.0.0",
      "model_name": "FloatProgressModel",
      "state": {
       "bar_style": "success",
       "layout": "IPY_MODEL_549bffed77c2448f82a3ad54f6650359",
       "max": 1,
       "style": "IPY_MODEL_5838af5b01764424bb26364a287781f3",
       "value": 1
      }
     },
     "a23ae1b4ba204c1a839361a574223acd": {
      "model_module": "@jupyter-widgets/controls",
      "model_module_version": "2.0.0",
      "model_name": "HTMLStyleModel",
      "state": {
       "description_width": "",
       "font_size": null,
       "text_color": null
      }
     },
     "a7d60974f0194fe9b4818ed652cd4cb6": {
      "model_module": "@jupyter-widgets/base",
      "model_module_version": "2.0.0",
      "model_name": "LayoutModel",
      "state": {}
     },
     "b0b3c93b060c47e98395bac4ffed3e9b": {
      "model_module": "@jupyter-widgets/controls",
      "model_module_version": "2.0.0",
      "model_name": "HBoxModel",
      "state": {
       "children": [
        "IPY_MODEL_8a3f98ca56334e188b467ea2b5585182",
        "IPY_MODEL_9d42f3863b9c4f3da5b755a46d0fe380",
        "IPY_MODEL_b22f7c7857294281904ce75cfd216455"
       ],
       "layout": "IPY_MODEL_b6a39f5602e4408ca1dcfaa7a528bf59"
      }
     },
     "b22f7c7857294281904ce75cfd216455": {
      "model_module": "@jupyter-widgets/controls",
      "model_module_version": "2.0.0",
      "model_name": "HTMLModel",
      "state": {
       "layout": "IPY_MODEL_7bce819ca14845a88b1f80ecce863a57",
       "style": "IPY_MODEL_180bfe3fdf914e19a9be11c65a602974",
       "value": " 1/1 [00:13&lt;00:00, 13.46s/it]"
      }
     },
     "b6a39f5602e4408ca1dcfaa7a528bf59": {
      "model_module": "@jupyter-widgets/base",
      "model_module_version": "2.0.0",
      "model_name": "LayoutModel",
      "state": {}
     },
     "b8b4b10de61f4a4aab530c8a39404670": {
      "model_module": "@jupyter-widgets/base",
      "model_module_version": "2.0.0",
      "model_name": "LayoutModel",
      "state": {}
     },
     "c1334ac5b24a47359e5e7545b097ccf9": {
      "model_module": "@jupyter-widgets/controls",
      "model_module_version": "2.0.0",
      "model_name": "HTMLModel",
      "state": {
       "layout": "IPY_MODEL_08023ee54e7f4de38f44d2d51b4ac26d",
       "style": "IPY_MODEL_a23ae1b4ba204c1a839361a574223acd",
       "value": "Export report to file: 100%"
      }
     },
     "c2a162af3a084fccb800b65ab5113f92": {
      "model_module": "@jupyter-widgets/base",
      "model_module_version": "2.0.0",
      "model_name": "LayoutModel",
      "state": {}
     },
     "c70dbdda50b64fe2a0ed98c2a069e1dd": {
      "model_module": "@jupyter-widgets/controls",
      "model_module_version": "2.0.0",
      "model_name": "ProgressStyleModel",
      "state": {
       "description_width": ""
      }
     },
     "df040d4ff8c24e25abe36863cc2dd106": {
      "model_module": "@jupyter-widgets/controls",
      "model_module_version": "2.0.0",
      "model_name": "ProgressStyleModel",
      "state": {
       "description_width": ""
      }
     },
     "e0eb86b3008541dc88fcbba3d8fc9ba1": {
      "model_module": "@jupyter-widgets/controls",
      "model_module_version": "2.0.0",
      "model_name": "HBoxModel",
      "state": {
       "children": [
        "IPY_MODEL_4939791ea3c84111aa161eb0d881e048",
        "IPY_MODEL_e4239b6737e34d54897b4ae939b2033d",
        "IPY_MODEL_f1ab7df98c134557b8ad873250197979"
       ],
       "layout": "IPY_MODEL_c2a162af3a084fccb800b65ab5113f92"
      }
     },
     "e4239b6737e34d54897b4ae939b2033d": {
      "model_module": "@jupyter-widgets/controls",
      "model_module_version": "2.0.0",
      "model_name": "FloatProgressModel",
      "state": {
       "bar_style": "success",
       "layout": "IPY_MODEL_b8b4b10de61f4a4aab530c8a39404670",
       "max": 1,
       "style": "IPY_MODEL_c70dbdda50b64fe2a0ed98c2a069e1dd",
       "value": 1
      }
     },
     "ec18c4318d9348569ce089c08e6061c5": {
      "model_module": "@jupyter-widgets/controls",
      "model_module_version": "2.0.0",
      "model_name": "HTMLStyleModel",
      "state": {
       "description_width": "",
       "font_size": null,
       "text_color": null
      }
     },
     "ec58e77070c94ee38ccfce28cb75d200": {
      "model_module": "@jupyter-widgets/base",
      "model_module_version": "2.0.0",
      "model_name": "LayoutModel",
      "state": {}
     },
     "f1ab7df98c134557b8ad873250197979": {
      "model_module": "@jupyter-widgets/controls",
      "model_module_version": "2.0.0",
      "model_name": "HTMLModel",
      "state": {
       "layout": "IPY_MODEL_a7d60974f0194fe9b4818ed652cd4cb6",
       "style": "IPY_MODEL_4d1655a64abc489c9bc3f2475c18dc95",
       "value": " 1/1 [00:21&lt;00:00, 21.97s/it]"
      }
     },
     "fafcda1153834d4892d979608e7c7ad9": {
      "model_module": "@jupyter-widgets/controls",
      "model_module_version": "2.0.0",
      "model_name": "ProgressStyleModel",
      "state": {
       "description_width": ""
      }
     }
    },
    "version_major": 2,
    "version_minor": 0
   }
  }
 },
 "nbformat": 4,
 "nbformat_minor": 5
}
